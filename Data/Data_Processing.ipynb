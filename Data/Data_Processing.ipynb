{
 "cells": [
  {
   "cell_type": "code",
   "execution_count": 8,
   "id": "69766f90",
   "metadata": {},
   "outputs": [],
   "source": [
    "import json\n",
    "import pandas as pd"
   ]
  },
  {
   "cell_type": "code",
   "execution_count": 9,
   "id": "d2bbd50a",
   "metadata": {},
   "outputs": [],
   "source": [
    "tweets = []\n",
    "for line in open('2018-A/TRECIS-CTIT-H-001.json', 'r'):\n",
    "\n",
    "     tweets.append(json.loads(line))\n",
    "\n",
    "\n",
    "df1 = pd.DataFrame(tweets)"
   ]
  },
  {
   "cell_type": "code",
   "execution_count": 12,
   "id": "84825773",
   "metadata": {},
   "outputs": [
    {
     "data": {
      "text/html": [
       "<div>\n",
       "<style scoped>\n",
       "    .dataframe tbody tr th:only-of-type {\n",
       "        vertical-align: middle;\n",
       "    }\n",
       "\n",
       "    .dataframe tbody tr th {\n",
       "        vertical-align: top;\n",
       "    }\n",
       "\n",
       "    .dataframe thead th {\n",
       "        text-align: right;\n",
       "    }\n",
       "</style>\n",
       "<table border=\"1\" class=\"dataframe\">\n",
       "  <thead>\n",
       "    <tr style=\"text-align: right;\">\n",
       "      <th></th>\n",
       "      <th>text</th>\n",
       "    </tr>\n",
       "  </thead>\n",
       "  <tbody>\n",
       "    <tr>\n",
       "      <th>0</th>\n",
       "      <td>#colorado. Told you its #amazing http://t.co/6...</td>\n",
       "    </tr>\n",
       "    <tr>\n",
       "      <th>1</th>\n",
       "      <td>RT @northfortynews: Tanker helicopter heads up...</td>\n",
       "    </tr>\n",
       "    <tr>\n",
       "      <th>2</th>\n",
       "      <td>#Evacuation center Cache La Poudre Middle Scho...</td>\n",
       "    </tr>\n",
       "    <tr>\n",
       "      <th>3</th>\n",
       "      <td>20F degrees cooler tomorrow in North Central &amp;...</td>\n",
       "    </tr>\n",
       "    <tr>\n",
       "      <th>4</th>\n",
       "      <td>FEMA has authorized the use of federal funds t...</td>\n",
       "    </tr>\n",
       "    <tr>\n",
       "      <th>...</th>\n",
       "      <td>...</td>\n",
       "    </tr>\n",
       "    <tr>\n",
       "      <th>739</th>\n",
       "      <td>Waldo Canyon fire near Colorado Springs reache...</td>\n",
       "    </tr>\n",
       "    <tr>\n",
       "      <th>740</th>\n",
       "      <td>Colorado?s Waldo Canyon Fire reaches 98% conta...</td>\n",
       "    </tr>\n",
       "    <tr>\n",
       "      <th>741</th>\n",
       "      <td>RT @cnnbrk: Colorado governor lifts statewide ...</td>\n",
       "    </tr>\n",
       "    <tr>\n",
       "      <th>742</th>\n",
       "      <td>#SiguemeYTeSigo Colorado governor lifts statew...</td>\n",
       "    </tr>\n",
       "    <tr>\n",
       "      <th>743</th>\n",
       "      <td>RT @News1130radio: BC Wildfire Management says...</td>\n",
       "    </tr>\n",
       "  </tbody>\n",
       "</table>\n",
       "<p>744 rows × 1 columns</p>\n",
       "</div>"
      ],
      "text/plain": [
       "                                                  text\n",
       "0    #colorado. Told you its #amazing http://t.co/6...\n",
       "1    RT @northfortynews: Tanker helicopter heads up...\n",
       "2    #Evacuation center Cache La Poudre Middle Scho...\n",
       "3    20F degrees cooler tomorrow in North Central &...\n",
       "4    FEMA has authorized the use of federal funds t...\n",
       "..                                                 ...\n",
       "739  Waldo Canyon fire near Colorado Springs reache...\n",
       "740  Colorado?s Waldo Canyon Fire reaches 98% conta...\n",
       "741  RT @cnnbrk: Colorado governor lifts statewide ...\n",
       "742  #SiguemeYTeSigo Colorado governor lifts statew...\n",
       "743  RT @News1130radio: BC Wildfire Management says...\n",
       "\n",
       "[744 rows x 1 columns]"
      ]
     },
     "execution_count": 12,
     "metadata": {},
     "output_type": "execute_result"
    }
   ],
   "source": [
    "df1.get(['text'])"
   ]
  },
  {
   "cell_type": "code",
   "execution_count": null,
   "id": "ff22f5d3",
   "metadata": {},
   "outputs": [],
   "source": []
  },
  {
   "cell_type": "code",
   "execution_count": null,
   "id": "0a01d72d",
   "metadata": {},
   "outputs": [],
   "source": []
  }
 ],
 "metadata": {
  "kernelspec": {
   "display_name": "Python 3 (ipykernel)",
   "language": "python",
   "name": "python3"
  },
  "language_info": {
   "codemirror_mode": {
    "name": "ipython",
    "version": 3
   },
   "file_extension": ".py",
   "mimetype": "text/x-python",
   "name": "python",
   "nbconvert_exporter": "python",
   "pygments_lexer": "ipython3",
   "version": "3.9.7"
  }
 },
 "nbformat": 4,
 "nbformat_minor": 5
}
