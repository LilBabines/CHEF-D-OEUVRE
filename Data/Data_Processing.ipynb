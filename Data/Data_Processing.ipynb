{
 "cells": [
  {
   "cell_type": "code",
   "execution_count": 24,
   "id": "69766f90",
   "metadata": {},
   "outputs": [],
   "source": [
    "import json\n",
    "import pandas as pd\n",
    "from transformers import T5Tokenizer, T5ForConditionalGeneration\n",
    "import re"
   ]
  },
  {
   "cell_type": "code",
   "execution_count": 44,
   "id": "d2bbd50a",
   "metadata": {},
   "outputs": [],
   "source": [
    "tweets = []\n",
    "for line in open('2018-A/TRECIS-CTIT-H-001.json', 'r'):\n",
    "\n",
    "     tweets.append(json.loads(line))\n",
    "\n",
    "\n",
    "df1 = pd.DataFrame(tweets)"
   ]
  },
  {
   "cell_type": "code",
   "execution_count": 45,
   "id": "84825773",
   "metadata": {},
   "outputs": [],
   "source": [
    "tweets = []\n",
    "for line in open('2019-A/TRECIS-CTIT-H-024.json', 'r'):\n",
    "\n",
    "     tweets.append(json.loads(line))\n",
    "\n",
    "\n",
    "df2 = pd.DataFrame(tweets)"
   ]
  },
  {
   "cell_type": "code",
   "execution_count": 46,
   "id": "0957de1a",
   "metadata": {},
   "outputs": [
    {
     "name": "stdout",
     "output_type": "stream",
     "text": [
      "taille fichier 002 : 13634\n",
      "taille fichier 001 : 83135\n"
     ]
    }
   ],
   "source": [
    "text2=\"\"\n",
    "text=\"\"\n",
    "for t in df2.get(\"text\"):\n",
    "    text2+=t\n",
    "for t in df1.get(\"text\"):\n",
    "    text+=t\n",
    "print(\"taille fichier 002 : \"+str(len(text2)))\n",
    "print(\"taille fichier 001 : \"+str(len(text)))"
   ]
  },
  {
   "cell_type": "code",
   "execution_count": 47,
   "id": "2fb8cd5b",
   "metadata": {},
   "outputs": [],
   "source": [
    "TEXT_CLEANING_RE = \"@\\S+|https?:\\S+|http?:\\S|[^A-Za-z0-9]+\"\n",
    "text = re.sub(TEXT_CLEANING_RE, ' ', str(text).lower()).strip()\n",
    "text = re.sub(TEXT_CLEANING_RE, ' ', str(text2).lower()).strip()"
   ]
  },
  {
   "cell_type": "code",
   "execution_count": 48,
   "id": "ff22f5d3",
   "metadata": {},
   "outputs": [
    {
     "name": "stderr",
     "output_type": "stream",
     "text": [
      "C:\\Users\\augus\\anaconda3\\lib\\site-packages\\transformers\\models\\t5\\tokenization_t5.py:164: FutureWarning: This tokenizer was incorrectly instantiated with a model max length of 512 which will be corrected in Transformers v5.\n",
      "For now, this behavior is kept to avoid breaking backwards compatibility when padding/encoding with `truncation is True`.\n",
      "- Be aware that you SHOULD NOT rely on t5-base automatically truncating your input to 512 when padding/encoding.\n",
      "- If you want to encode/pad to sequences longer than 512 you can either instantiate this tokenizer with `model_max_length` or pass `max_length` when encoding/padding.\n",
      "- To avoid this warning, please instantiate this tokenizer with `model_max_length` set to your preferred value.\n",
      "  warnings.warn(\n"
     ]
    },
    {
     "name": "stdout",
     "output_type": "stream",
     "text": [
      "Summary 001 :<pad> san francisco quake is the largest in 25 years. quake is the worst since october 17 1989. quake is a major cause of damage to historic buildings. quake is a major cause of damage to wineries.</s>\n"
     ]
    }
   ],
   "source": [
    "model = T5ForConditionalGeneration.from_pretrained('t5-base')\n",
    "tokenizer = T5Tokenizer.from_pretrained('t5-base')\n",
    "\n",
    "Preprocessed_text = \"summarize: \"+text\n",
    "tokens_input = tokenizer.encode(Preprocessed_text,return_tensors=\"pt\", max_length=512, truncation=True)\n",
    "summary_ids = model.generate(tokens_input,\n",
    " min_length=60,\n",
    " max_length=180,\n",
    " length_penalty=4.0)\n",
    "summary = tokenizer.decode(summary_ids[0])\n",
    "print(\"Summary 001 :\"+summary)"
   ]
  },
  {
   "cell_type": "code",
   "execution_count": 43,
   "id": "5ab606c5",
   "metadata": {},
   "outputs": [
    {
     "name": "stdout",
     "output_type": "stream",
     "text": [
      "Summary 002 :<pad> 6.0 magnitude quake hits #napa, causing damage to historic buildings. PG&amp;E says over 20 #gas-distribution outages remain. quake is the largest in 25 years. quake is the largest in the bay area since 1989.</s>\n"
     ]
    }
   ],
   "source": [
    "model = T5ForConditionalGeneration.from_pretrained('t5-base')\n",
    "tokenizer = T5Tokenizer.from_pretrained('t5-base')\n",
    "\n",
    "Preprocessed_text = \"summarize: \"+text2\n",
    "tokens_input = tokenizer.encode(Preprocessed_text,return_tensors=\"pt\", max_length=512, truncation=True)\n",
    "summary_ids = model.generate(tokens_input,\n",
    " min_length=60,\n",
    " max_length=180,\n",
    " length_penalty=4.0)\n",
    "summary = tokenizer.decode(summary_ids[0])\n",
    "print(\"Summary 002 :\"+summary)"
   ]
  },
  {
   "cell_type": "code",
   "execution_count": null,
   "id": "bcd68b0f",
   "metadata": {},
   "outputs": [],
   "source": []
  },
  {
   "cell_type": "code",
   "execution_count": null,
   "id": "0a01d72d",
   "metadata": {},
   "outputs": [],
   "source": []
  },
  {
   "cell_type": "code",
   "execution_count": null,
   "id": "d40ce607",
   "metadata": {},
   "outputs": [],
   "source": []
  },
  {
   "cell_type": "code",
   "execution_count": null,
   "id": "e8231a21",
   "metadata": {},
   "outputs": [],
   "source": []
  }
 ],
 "metadata": {
  "kernelspec": {
   "display_name": "Python 3 (ipykernel)",
   "language": "python",
   "name": "python3"
  },
  "language_info": {
   "codemirror_mode": {
    "name": "ipython",
    "version": 3
   },
   "file_extension": ".py",
   "mimetype": "text/x-python",
   "name": "python",
   "nbconvert_exporter": "python",
   "pygments_lexer": "ipython3",
   "version": "3.9.7"
  }
 },
 "nbformat": 4,
 "nbformat_minor": 5
}
